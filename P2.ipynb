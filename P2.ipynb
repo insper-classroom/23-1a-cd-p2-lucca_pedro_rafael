{
 "cells": [
  {
   "attachments": {},
   "cell_type": "markdown",
   "metadata": {},
   "source": [
    "## Projeto 2 - Ciência dos dados"
   ]
  },
  {
   "attachments": {},
   "cell_type": "markdown",
   "metadata": {},
   "source": [
    "## Integrantes: \n",
    "\n",
    "- Luca Guazzelli \n",
    "\n",
    "- Pedro Henrique Vidal \n",
    "\n",
    "- Rafael Agnelo"
   ]
  },
  {
   "attachments": {},
   "cell_type": "markdown",
   "metadata": {},
   "source": [
    "## Objetivo: \n",
    "\n",
    "- A base de dados é uma base de microdados do ENEM em relação a dados do ENEM por escolas (públicas e privadas) no Brasil. Em relação à isso, faz-se a seguinte pergunta temática:\n",
    "\n",
    "- A partir de uma série de features (Localidade, Taxa de abandono, Porte da escola , Média das notas em matemática, Tipo da dependência administrativa, Número de participantes do enem que cumprem os requisitos de participação e INSE), qual é o perfil médio de uma escola que performa mal, isto é, de forma insatisfatória em Matemática no ENEM (Média inferior à 500) no ano de 2015?\n",
    "\n"
   ]
  },
  {
   "attachments": {},
   "cell_type": "markdown",
   "metadata": {},
   "source": [
    "## Importando Bibliotecas"
   ]
  },
  {
   "cell_type": "code",
   "execution_count": 207,
   "metadata": {},
   "outputs": [],
   "source": [
    "%matplotlib inline\n",
    "import pandas as pd\n",
    "import numpy as np\n",
    "from scipy import stats\n",
    "import matplotlib.pyplot as plt\n"
   ]
  },
  {
   "cell_type": "code",
   "execution_count": 208,
   "metadata": {},
   "outputs": [
    {
     "name": "stdout",
     "output_type": "stream",
     "text": [
      "Requirement already satisfied: dython in c:\\users\\pedro vidal\\anaconda3\\lib\\site-packages (0.7.4)\n",
      "Requirement already satisfied: psutil>=5.9.1 in c:\\users\\pedro vidal\\anaconda3\\lib\\site-packages (from dython) (5.9.5)\n",
      "Requirement already satisfied: scipy>=1.7.1 in c:\\users\\pedro vidal\\anaconda3\\lib\\site-packages (from dython) (1.10.1)\n",
      "Requirement already satisfied: scikit-plot>=0.3.7 in c:\\users\\pedro vidal\\anaconda3\\lib\\site-packages (from dython) (0.3.7)\n",
      "Requirement already satisfied: numpy>=1.23.0 in c:\\users\\pedro vidal\\anaconda3\\lib\\site-packages (from dython) (1.24.3)\n",
      "Requirement already satisfied: seaborn>=0.12.0 in c:\\users\\pedro vidal\\anaconda3\\lib\\site-packages (from dython) (0.12.2)\n",
      "Requirement already satisfied: matplotlib>=3.5.3 in c:\\users\\pedro vidal\\anaconda3\\lib\\site-packages (from dython) (3.7.1)\n",
      "Requirement already satisfied: scikit-learn>=0.24.2 in c:\\users\\pedro vidal\\anaconda3\\lib\\site-packages (from dython) (1.0.2)\n",
      "Requirement already satisfied: pandas>=1.4.2 in c:\\users\\pedro vidal\\anaconda3\\lib\\site-packages (from dython) (1.4.2)\n",
      "Requirement already satisfied: cycler>=0.10 in c:\\users\\pedro vidal\\anaconda3\\lib\\site-packages (from matplotlib>=3.5.3->dython) (0.11.0)\n",
      "Requirement already satisfied: pyparsing>=2.3.1 in c:\\users\\pedro vidal\\anaconda3\\lib\\site-packages (from matplotlib>=3.5.3->dython) (3.0.4)\n",
      "Requirement already satisfied: contourpy>=1.0.1 in c:\\users\\pedro vidal\\anaconda3\\lib\\site-packages (from matplotlib>=3.5.3->dython) (1.0.7)\n",
      "Requirement already satisfied: packaging>=20.0 in c:\\users\\pedro vidal\\anaconda3\\lib\\site-packages (from matplotlib>=3.5.3->dython) (21.3)\n",
      "Requirement already satisfied: python-dateutil>=2.7 in c:\\users\\pedro vidal\\anaconda3\\lib\\site-packages (from matplotlib>=3.5.3->dython) (2.8.2)\n",
      "Requirement already satisfied: pillow>=6.2.0 in c:\\users\\pedro vidal\\anaconda3\\lib\\site-packages (from matplotlib>=3.5.3->dython) (9.0.1)\n",
      "Requirement already satisfied: fonttools>=4.22.0 in c:\\users\\pedro vidal\\anaconda3\\lib\\site-packages (from matplotlib>=3.5.3->dython) (4.25.0)\n",
      "Requirement already satisfied: importlib-resources>=3.2.0 in c:\\users\\pedro vidal\\anaconda3\\lib\\site-packages (from matplotlib>=3.5.3->dython) (5.12.0)\n",
      "Requirement already satisfied: kiwisolver>=1.0.1 in c:\\users\\pedro vidal\\anaconda3\\lib\\site-packages (from matplotlib>=3.5.3->dython) (1.3.2)\n",
      "Requirement already satisfied: zipp>=3.1.0 in c:\\users\\pedro vidal\\anaconda3\\lib\\site-packages (from importlib-resources>=3.2.0->matplotlib>=3.5.3->dython) (3.7.0)\n",
      "Requirement already satisfied: pytz>=2020.1 in c:\\users\\pedro vidal\\anaconda3\\lib\\site-packages (from pandas>=1.4.2->dython) (2021.3)\n",
      "Requirement already satisfied: six>=1.5 in c:\\users\\pedro vidal\\anaconda3\\lib\\site-packages (from python-dateutil>=2.7->matplotlib>=3.5.3->dython) (1.16.0)\n",
      "Requirement already satisfied: threadpoolctl>=2.0.0 in c:\\users\\pedro vidal\\anaconda3\\lib\\site-packages (from scikit-learn>=0.24.2->dython) (2.2.0)\n",
      "Requirement already satisfied: joblib>=0.11 in c:\\users\\pedro vidal\\anaconda3\\lib\\site-packages (from scikit-learn>=0.24.2->dython) (1.1.0)\n"
     ]
    }
   ],
   "source": [
    "#biblitoeca necessária futuramente\n",
    "!pip install dython "
   ]
  },
  {
   "attachments": {},
   "cell_type": "markdown",
   "metadata": {},
   "source": [
    "## Carregando base de dados\n",
    "Por meio da base de dados do INEP, é possível acessar as planilhas de microdados relativas a informações de ENEM por escolas - com mais de 10 participantes - no Brasil."
   ]
  },
  {
   "cell_type": "code",
   "execution_count": 209,
   "metadata": {},
   "outputs": [
    {
     "name": "stderr",
     "output_type": "stream",
     "text": [
      "C:\\Users\\Pedro Vidal\\AppData\\Local\\Temp\\ipykernel_85936\\2310550405.py:1: DtypeWarning: Columns (20) have mixed types. Specify dtype option on import or set low_memory=False.\n",
      "  dados = pd.read_csv('microdados_enem_por_escola\\DADOS\\MICRODADOS_ENEM_ESCOLA.csv',encoding='latin1', sep=\";\")\n"
     ]
    }
   ],
   "source": [
    "dados = pd.read_csv('microdados_enem_por_escola\\DADOS\\MICRODADOS_ENEM_ESCOLA.csv',encoding='latin1', sep=\";\")"
   ]
  },
  {
   "cell_type": "code",
   "execution_count": 210,
   "metadata": {},
   "outputs": [
    {
     "data": {
      "text/html": [
       "<div>\n",
       "<style scoped>\n",
       "    .dataframe tbody tr th:only-of-type {\n",
       "        vertical-align: middle;\n",
       "    }\n",
       "\n",
       "    .dataframe tbody tr th {\n",
       "        vertical-align: top;\n",
       "    }\n",
       "\n",
       "    .dataframe thead th {\n",
       "        text-align: right;\n",
       "    }\n",
       "</style>\n",
       "<table border=\"1\" class=\"dataframe\">\n",
       "  <thead>\n",
       "    <tr style=\"text-align: right;\">\n",
       "      <th></th>\n",
       "      <th>NU_ANO</th>\n",
       "      <th>CO_UF_ESCOLA</th>\n",
       "      <th>SG_UF_ESCOLA</th>\n",
       "      <th>CO_MUNICIPIO_ESCOLA</th>\n",
       "      <th>NO_MUNICIPIO_ESCOLA</th>\n",
       "      <th>CO_ESCOLA_EDUCACENSO</th>\n",
       "      <th>NO_ESCOLA_EDUCACENSO</th>\n",
       "      <th>TP_DEPENDENCIA_ADM_ESCOLA</th>\n",
       "      <th>TP_LOCALIZACAO_ESCOLA</th>\n",
       "      <th>NU_MATRICULAS</th>\n",
       "      <th>...</th>\n",
       "      <th>NU_MEDIA_RED</th>\n",
       "      <th>NU_MEDIA_OBJ</th>\n",
       "      <th>NU_MEDIA_TOT</th>\n",
       "      <th>INSE</th>\n",
       "      <th>PC_FORMACAO_DOCENTE</th>\n",
       "      <th>NU_TAXA_PERMANENCIA</th>\n",
       "      <th>NU_TAXA_APROVACAO</th>\n",
       "      <th>NU_TAXA_REPROVACAO</th>\n",
       "      <th>NU_TAXA_ABANDONO</th>\n",
       "      <th>PORTE_ESCOLA</th>\n",
       "    </tr>\n",
       "  </thead>\n",
       "  <tbody>\n",
       "    <tr>\n",
       "      <th>0</th>\n",
       "      <td>2007</td>\n",
       "      <td>11</td>\n",
       "      <td>RO</td>\n",
       "      <td>1100205</td>\n",
       "      <td>Porto Velho</td>\n",
       "      <td>11000058</td>\n",
       "      <td>CENTRO DE ENSINO CLASSE A</td>\n",
       "      <td>4</td>\n",
       "      <td>1</td>\n",
       "      <td>144</td>\n",
       "      <td>...</td>\n",
       "      <td>NaN</td>\n",
       "      <td>NaN</td>\n",
       "      <td>69.03</td>\n",
       "      <td>NaN</td>\n",
       "      <td>NaN</td>\n",
       "      <td>NaN</td>\n",
       "      <td>91.9</td>\n",
       "      <td>8.1</td>\n",
       "      <td>0.0</td>\n",
       "      <td>Maior que 90 alunos</td>\n",
       "    </tr>\n",
       "    <tr>\n",
       "      <th>1</th>\n",
       "      <td>2006</td>\n",
       "      <td>11</td>\n",
       "      <td>RO</td>\n",
       "      <td>1100205</td>\n",
       "      <td>Porto Velho</td>\n",
       "      <td>11000058</td>\n",
       "      <td>CENTRO DE ENSINO CLASSE A</td>\n",
       "      <td>4</td>\n",
       "      <td>1</td>\n",
       "      <td>184</td>\n",
       "      <td>...</td>\n",
       "      <td>NaN</td>\n",
       "      <td>NaN</td>\n",
       "      <td>57.82</td>\n",
       "      <td>NaN</td>\n",
       "      <td>NaN</td>\n",
       "      <td>NaN</td>\n",
       "      <td>NaN</td>\n",
       "      <td>NaN</td>\n",
       "      <td>NaN</td>\n",
       "      <td>Maior que 90 alunos</td>\n",
       "    </tr>\n",
       "    <tr>\n",
       "      <th>2</th>\n",
       "      <td>2005</td>\n",
       "      <td>11</td>\n",
       "      <td>RO</td>\n",
       "      <td>1100205</td>\n",
       "      <td>Porto Velho</td>\n",
       "      <td>11000058</td>\n",
       "      <td>CENTRO DE ENSINO CLASSE A</td>\n",
       "      <td>4</td>\n",
       "      <td>1</td>\n",
       "      <td>220</td>\n",
       "      <td>...</td>\n",
       "      <td>NaN</td>\n",
       "      <td>NaN</td>\n",
       "      <td>64.83</td>\n",
       "      <td>NaN</td>\n",
       "      <td>NaN</td>\n",
       "      <td>NaN</td>\n",
       "      <td>86.5</td>\n",
       "      <td>12.4</td>\n",
       "      <td>1.1</td>\n",
       "      <td>Maior que 90 alunos</td>\n",
       "    </tr>\n",
       "    <tr>\n",
       "      <th>3</th>\n",
       "      <td>2008</td>\n",
       "      <td>11</td>\n",
       "      <td>RO</td>\n",
       "      <td>1100205</td>\n",
       "      <td>Porto Velho</td>\n",
       "      <td>11000058</td>\n",
       "      <td>CENTRO DE ENSINO CLASSE A</td>\n",
       "      <td>4</td>\n",
       "      <td>1</td>\n",
       "      <td>186</td>\n",
       "      <td>...</td>\n",
       "      <td>72.16</td>\n",
       "      <td>60.02</td>\n",
       "      <td>NaN</td>\n",
       "      <td>NaN</td>\n",
       "      <td>NaN</td>\n",
       "      <td>NaN</td>\n",
       "      <td>90.3</td>\n",
       "      <td>9.7</td>\n",
       "      <td>0.0</td>\n",
       "      <td>Maior que 90 alunos</td>\n",
       "    </tr>\n",
       "    <tr>\n",
       "      <th>4</th>\n",
       "      <td>2007</td>\n",
       "      <td>11</td>\n",
       "      <td>RO</td>\n",
       "      <td>1100205</td>\n",
       "      <td>Porto Velho</td>\n",
       "      <td>11000171</td>\n",
       "      <td>CENTRO EDUCACIONAL MOJUCA</td>\n",
       "      <td>4</td>\n",
       "      <td>1</td>\n",
       "      <td>19</td>\n",
       "      <td>...</td>\n",
       "      <td>NaN</td>\n",
       "      <td>NaN</td>\n",
       "      <td>58.84</td>\n",
       "      <td>NaN</td>\n",
       "      <td>NaN</td>\n",
       "      <td>NaN</td>\n",
       "      <td>74.2</td>\n",
       "      <td>21.0</td>\n",
       "      <td>4.8</td>\n",
       "      <td>De 1 a 30 alunos</td>\n",
       "    </tr>\n",
       "  </tbody>\n",
       "</table>\n",
       "<p>5 rows × 27 columns</p>\n",
       "</div>"
      ],
      "text/plain": [
       "   NU_ANO  CO_UF_ESCOLA SG_UF_ESCOLA  CO_MUNICIPIO_ESCOLA NO_MUNICIPIO_ESCOLA  \\\n",
       "0    2007            11           RO              1100205         Porto Velho   \n",
       "1    2006            11           RO              1100205         Porto Velho   \n",
       "2    2005            11           RO              1100205         Porto Velho   \n",
       "3    2008            11           RO              1100205         Porto Velho   \n",
       "4    2007            11           RO              1100205         Porto Velho   \n",
       "\n",
       "   CO_ESCOLA_EDUCACENSO       NO_ESCOLA_EDUCACENSO  TP_DEPENDENCIA_ADM_ESCOLA  \\\n",
       "0              11000058  CENTRO DE ENSINO CLASSE A                          4   \n",
       "1              11000058  CENTRO DE ENSINO CLASSE A                          4   \n",
       "2              11000058  CENTRO DE ENSINO CLASSE A                          4   \n",
       "3              11000058  CENTRO DE ENSINO CLASSE A                          4   \n",
       "4              11000171  CENTRO EDUCACIONAL MOJUCA                          4   \n",
       "\n",
       "   TP_LOCALIZACAO_ESCOLA  NU_MATRICULAS  ...  NU_MEDIA_RED  NU_MEDIA_OBJ  \\\n",
       "0                      1            144  ...           NaN           NaN   \n",
       "1                      1            184  ...           NaN           NaN   \n",
       "2                      1            220  ...           NaN           NaN   \n",
       "3                      1            186  ...         72.16         60.02   \n",
       "4                      1             19  ...           NaN           NaN   \n",
       "\n",
       "   NU_MEDIA_TOT  INSE  PC_FORMACAO_DOCENTE  NU_TAXA_PERMANENCIA  \\\n",
       "0         69.03   NaN                  NaN                  NaN   \n",
       "1         57.82   NaN                  NaN                  NaN   \n",
       "2         64.83   NaN                  NaN                  NaN   \n",
       "3           NaN   NaN                  NaN                  NaN   \n",
       "4         58.84   NaN                  NaN                  NaN   \n",
       "\n",
       "   NU_TAXA_APROVACAO  NU_TAXA_REPROVACAO  NU_TAXA_ABANDONO  \\\n",
       "0               91.9                 8.1               0.0   \n",
       "1                NaN                 NaN               NaN   \n",
       "2               86.5                12.4               1.1   \n",
       "3               90.3                 9.7               0.0   \n",
       "4               74.2                21.0               4.8   \n",
       "\n",
       "          PORTE_ESCOLA  \n",
       "0  Maior que 90 alunos  \n",
       "1  Maior que 90 alunos  \n",
       "2  Maior que 90 alunos  \n",
       "3  Maior que 90 alunos  \n",
       "4     De 1 a 30 alunos  \n",
       "\n",
       "[5 rows x 27 columns]"
      ]
     },
     "execution_count": 210,
     "metadata": {},
     "output_type": "execute_result"
    }
   ],
   "source": [
    "dados.head(5)"
   ]
  },
  {
   "attachments": {},
   "cell_type": "markdown",
   "metadata": {},
   "source": [
    "## Análise exploratória e mineração de dados\n",
    "\n",
    "De prima, cabe analisar descritivamente os features a fim de entender o comportamento da target nota média. Para tanto, urge:\n",
    "- 1) Filtrar as colunas das bases de dados que são potencialmente necessárias para traçar um perfil adequado e eficaz.\n",
    "- 2) Minerar os dados e possibilitar uma análise descritiva detalhada das variáveis, de modo a associar diferentes features graficamente e utilizar ferramentas estatísticas a fim de permitir a análise dos dados.\n"
   ]
  },
  {
   "cell_type": "code",
   "execution_count": 211,
   "metadata": {},
   "outputs": [
    {
     "data": {
      "text/html": [
       "<div>\n",
       "<style scoped>\n",
       "    .dataframe tbody tr th:only-of-type {\n",
       "        vertical-align: middle;\n",
       "    }\n",
       "\n",
       "    .dataframe tbody tr th {\n",
       "        vertical-align: top;\n",
       "    }\n",
       "\n",
       "    .dataframe thead th {\n",
       "        text-align: right;\n",
       "    }\n",
       "</style>\n",
       "<table border=\"1\" class=\"dataframe\">\n",
       "  <thead>\n",
       "    <tr style=\"text-align: right;\">\n",
       "      <th></th>\n",
       "      <th>TP_DEPENDENCIA_ADM_ESCOLA</th>\n",
       "      <th>TP_LOCALIZACAO_ESCOLA</th>\n",
       "      <th>NU_TAXA_ABANDONO</th>\n",
       "      <th>PORTE_ESCOLA</th>\n",
       "      <th>NU_MEDIA_MT</th>\n",
       "      <th>INSE</th>\n",
       "    </tr>\n",
       "  </thead>\n",
       "  <tbody>\n",
       "    <tr>\n",
       "      <th>67619</th>\n",
       "      <td>4</td>\n",
       "      <td>1</td>\n",
       "      <td>0.0</td>\n",
       "      <td>Maior que 90 alunos</td>\n",
       "      <td>627.66</td>\n",
       "      <td>Grupo 6</td>\n",
       "    </tr>\n",
       "    <tr>\n",
       "      <th>67628</th>\n",
       "      <td>4</td>\n",
       "      <td>1</td>\n",
       "      <td>0.0</td>\n",
       "      <td>De 1 a 30 alunos</td>\n",
       "      <td>459.72</td>\n",
       "      <td>Grupo 4</td>\n",
       "    </tr>\n",
       "    <tr>\n",
       "      <th>67640</th>\n",
       "      <td>4</td>\n",
       "      <td>1</td>\n",
       "      <td>0.0</td>\n",
       "      <td>De 31 a 60 alunos</td>\n",
       "      <td>507.22</td>\n",
       "      <td>Grupo 5</td>\n",
       "    </tr>\n",
       "    <tr>\n",
       "      <th>67642</th>\n",
       "      <td>4</td>\n",
       "      <td>1</td>\n",
       "      <td>0.8</td>\n",
       "      <td>De 31 a 60 alunos</td>\n",
       "      <td>529.87</td>\n",
       "      <td>Grupo 5</td>\n",
       "    </tr>\n",
       "    <tr>\n",
       "      <th>67648</th>\n",
       "      <td>4</td>\n",
       "      <td>1</td>\n",
       "      <td>2.4</td>\n",
       "      <td>De 1 a 30 alunos</td>\n",
       "      <td>528.93</td>\n",
       "      <td>Grupo 5</td>\n",
       "    </tr>\n",
       "    <tr>\n",
       "      <th>...</th>\n",
       "      <td>...</td>\n",
       "      <td>...</td>\n",
       "      <td>...</td>\n",
       "      <td>...</td>\n",
       "      <td>...</td>\n",
       "      <td>...</td>\n",
       "    </tr>\n",
       "    <tr>\n",
       "      <th>172288</th>\n",
       "      <td>4</td>\n",
       "      <td>1</td>\n",
       "      <td>0.0</td>\n",
       "      <td>De 61 a 90 alunos</td>\n",
       "      <td>786.28</td>\n",
       "      <td>Grupo 6</td>\n",
       "    </tr>\n",
       "    <tr>\n",
       "      <th>172292</th>\n",
       "      <td>2</td>\n",
       "      <td>1</td>\n",
       "      <td>0.0</td>\n",
       "      <td>De 61 a 90 alunos</td>\n",
       "      <td>452.82</td>\n",
       "      <td>Grupo 3</td>\n",
       "    </tr>\n",
       "    <tr>\n",
       "      <th>172296</th>\n",
       "      <td>2</td>\n",
       "      <td>1</td>\n",
       "      <td>12.0</td>\n",
       "      <td>Maior que 90 alunos</td>\n",
       "      <td>456.23</td>\n",
       "      <td>Grupo 3</td>\n",
       "    </tr>\n",
       "    <tr>\n",
       "      <th>172302</th>\n",
       "      <td>2</td>\n",
       "      <td>1</td>\n",
       "      <td>11.0</td>\n",
       "      <td>Maior que 90 alunos</td>\n",
       "      <td>428.90</td>\n",
       "      <td>Grupo 3</td>\n",
       "    </tr>\n",
       "    <tr>\n",
       "      <th>172304</th>\n",
       "      <td>4</td>\n",
       "      <td>1</td>\n",
       "      <td>0.0</td>\n",
       "      <td>De 1 a 30 alunos</td>\n",
       "      <td>464.84</td>\n",
       "      <td>Grupo 5</td>\n",
       "    </tr>\n",
       "  </tbody>\n",
       "</table>\n",
       "<p>15598 rows × 6 columns</p>\n",
       "</div>"
      ],
      "text/plain": [
       "        TP_DEPENDENCIA_ADM_ESCOLA  TP_LOCALIZACAO_ESCOLA  NU_TAXA_ABANDONO  \\\n",
       "67619                           4                      1               0.0   \n",
       "67628                           4                      1               0.0   \n",
       "67640                           4                      1               0.0   \n",
       "67642                           4                      1               0.8   \n",
       "67648                           4                      1               2.4   \n",
       "...                           ...                    ...               ...   \n",
       "172288                          4                      1               0.0   \n",
       "172292                          2                      1               0.0   \n",
       "172296                          2                      1              12.0   \n",
       "172302                          2                      1              11.0   \n",
       "172304                          4                      1               0.0   \n",
       "\n",
       "               PORTE_ESCOLA  NU_MEDIA_MT     INSE  \n",
       "67619   Maior que 90 alunos       627.66  Grupo 6  \n",
       "67628      De 1 a 30 alunos       459.72  Grupo 4  \n",
       "67640     De 31 a 60 alunos       507.22  Grupo 5  \n",
       "67642     De 31 a 60 alunos       529.87  Grupo 5  \n",
       "67648      De 1 a 30 alunos       528.93  Grupo 5  \n",
       "...                     ...          ...      ...  \n",
       "172288    De 61 a 90 alunos       786.28  Grupo 6  \n",
       "172292    De 61 a 90 alunos       452.82  Grupo 3  \n",
       "172296  Maior que 90 alunos       456.23  Grupo 3  \n",
       "172302  Maior que 90 alunos       428.90  Grupo 3  \n",
       "172304     De 1 a 30 alunos       464.84  Grupo 5  \n",
       "\n",
       "[15598 rows x 6 columns]"
      ]
     },
     "execution_count": 211,
     "metadata": {},
     "output_type": "execute_result"
    }
   ],
   "source": [
    "dados_limpando = dados.loc[dados[\"NU_ANO\"] == 2015,(\"TP_DEPENDENCIA_ADM_ESCOLA\", \"TP_LOCALIZACAO_ESCOLA\", \"NU_TAXA_ABANDONO\", \"PORTE_ESCOLA\", \"NU_MEDIA_MT\", \"INSE\")]\n",
    "\n",
    "dados_limpando"
   ]
  },
  {
   "attachments": {},
   "cell_type": "markdown",
   "metadata": {},
   "source": [
    "1) \"TP_DEPENDENCIA_ADM_ESCOLA\" (Tipo da dependência administrativa da escola):\n",
    "    Tipo: Feature qualitativa.\n",
    "    Descrição: Indica o tipo de dependência administrativa da escola, classificando-a como Federal, Estadual, Municipal ou Privada.\n",
    "\n",
    "2) \"TP_LOCALIZACAO_ESCOLA\" (Localização da escola):\n",
    "    Tipo: Feature qualitativa.\n",
    "    Descrição: Indica a localização da escola, sendo classificada como Urbana ou Rural.\n",
    "\n",
    "3) NU_TAXA_ABANDONO\" (Taxa de abandono):\n",
    "    Tipo: Feature qualitativa.\n",
    "    Descrição: Representa a taxa de abandono escolar, indicando a proporção de alunos que abandonaram a escola.\n",
    "\n",
    "4) \"PORTE_ESCOLA\" (Porte da escola):\n",
    "    Tipo: Feature qualitativa.\n",
    "    Descrição: Indica o porte da escola, categorizando-a como Pequena, Média, Grande ou Não se aplica.\n",
    "\n",
    "5)  \"INSE\" (Índice de Nível Socioeconômico):\n",
    "    Tipo: Feature qualitativa.\n",
    "    Descrição: O INSE é um índice que mede o nível socioeconômico das famílias dos alunos da escola. É categorizado em grupos, sendo numerados de 1 a 6, representando diferentes níveis socioeconômicos, onde o Grupo 1 representa o nível mais baixo e o Grupo 6 o mais alto.\n",
    "\n",
    "6) \"NU_MEDIA_MT\" (Média das notas em Matemática no ENEM):\n",
    "    Tipo: Target qualitativa.\n",
    "    Descrição: Representa a média das notas obtidas pelos alunos da escola na disciplina de Matemática no Exame Nacional do Ensino Médio (ENEM)."
   ]
  },
  {
   "attachments": {},
   "cell_type": "markdown",
   "metadata": {},
   "source": [
    "## Analise Descritiva da Target\n",
    "\n",
    "Agora, pode-se analisar a target (Média de Matemática) perante todas as features e entender acerca das influências de cada uma.\n"
   ]
  },
  {
   "attachments": {},
   "cell_type": "markdown",
   "metadata": {},
   "source": [
    "## GET DUMMIES"
   ]
  },
  {
   "attachments": {},
   "cell_type": "markdown",
   "metadata": {},
   "source": [
    "Primeiramente, importa-se a biblioteca seaborn:"
   ]
  },
  {
   "cell_type": "code",
   "execution_count": 212,
   "metadata": {},
   "outputs": [],
   "source": [
    "import seaborn as sns"
   ]
  },
  {
   "attachments": {},
   "cell_type": "markdown",
   "metadata": {},
   "source": [
    "O Seaborn é uma biblioteca de visualização de dados em Python que trabalha em conjunto com o Matplotlib. Ele oferece uma interface de alto nível para criar gráficos estatísticos atraentes e informativos. A importação do Seaborn é realizada com o objetivo de aproveitar suas funcionalidades adicionais em relação ao Matplotlib, especialmente no que diz respeito à criação de gráficos estatísticos mais complexos e esteticamente agradáveis.\n",
    "\n",
    "Com essa biblioteca, é possível otimizar os gráficos BoxPlot que serão criados. O boxplot, ou diagrama de caixa, é um gráfico que permite visualizar a distribuição de uma variável quantitativa em relação a uma variável categórica. Ele é composto por um retângulo que representa o intervalo interquartil (25% a 75% dos dados), uma linha que indica a mediana, além de \"bigodes\" que representam a amplitude dos dados. O boxplot é uma ferramenta útil para identificar a dispersão e possíveis outliers nos dados, além de permitir a comparação entre diferentes grupos ou categorias.\n",
    "\n",
    "Também, pensando nas variáveis quantitativas, o scatter plot, ou gráfico de dispersão, é uma representação gráfica que permite observar a relação entre duas variáveis quantitativas. Cada ponto no gráfico representa uma observação, sendo posicionado de acordo com os valores das duas variáveis. Essa visualização nos permite identificar padrões, tendências ou correlações entre as variáveis. O scatter plot é especialmente útil para investigar a relação de causa e efeito entre variáveis ou para identificar possíveis associações entre elas.\n",
    "\n",
    "Através dessas ferramentas gráficas, é possível explorar e analisar as relações entre as variáveis do conjunto de dados, auxiliando na compreensão dos padrões e tendências presentes. Combinar a visualização gráfica com medidas de resumo e/ou medidas de associação fornece uma análise mais completa e interpretação dos dados, permitindo obter insights valiosos para a tomada de decisões informada"
   ]
  },
  {
   "attachments": {},
   "cell_type": "markdown",
   "metadata": {},
   "source": [
    "A partir disso, pode-se dar início a construção dos gráficos entre variáveis qualitativas e quantitativas:\n"
   ]
  },
  {
   "attachments": {},
   "cell_type": "markdown",
   "metadata": {},
   "source": [
    "1) Gráfico de densidade das notas médias em matemática dos estudantes brasileiros no ENEM"
   ]
  },
  {
   "cell_type": "code",
   "execution_count": 213,
   "metadata": {},
   "outputs": [
    {
     "data": {
      "text/plain": [
       "Text(0, 0.5, 'Densidade')"
      ]
     },
     "execution_count": 213,
     "metadata": {},
     "output_type": "execute_result"
    },
    {
     "data": {
      "image/png": "[encoded data removed]",
      "text/plain": [
       "<Figure size 1152x864 with 1 Axes>"
      ]
     },
     "metadata": {
      "needs_background": "light"
     },
     "output_type": "display_data"
    }
   ],
   "source": [
    "plt.figure(figsize=(16, 12))\n",
    "\n",
    "plt.subplot(221)\n",
    "plt.hist(dados_limpando.NU_MEDIA_MT, edgecolor='black', density=True)\n",
    "plt.title(\"Histograma - Média Enem 2015 - Matemática\")\n",
    "plt.xlabel('Média Matemática ENEM')\n",
    "plt.ylabel('Densidade')\n"
   ]
  },
  {
   "attachments": {},
   "cell_type": "markdown",
   "metadata": {},
   "source": [
    "2) Dependência admnistrativa (feature qualitativa) X Média das notas em matemática (target quantitativa)"
   ]
  },
  {
   "cell_type": "code",
   "execution_count": 214,
   "metadata": {},
   "outputs": [
    {
     "data": {
      "image/png": "[encoded data removed]",
      "text/plain": [
       "<Figure size 720x432 with 1 Axes>"
      ]
     },
     "metadata": {
      "needs_background": "light"
     },
     "output_type": "display_data"
    }
   ],
   "source": [
    "\n",
    "# Boxplot da Média das notas em Matemática segmentadas por Dependência Administrativa\n",
    "plt.figure(figsize=(10, 6))\n",
    "sns.boxplot(x='TP_DEPENDENCIA_ADM_ESCOLA', y='NU_MEDIA_MT', data=dados_limpando)\n",
    "plt.xlabel('Dependência Administrativa')\n",
    "plt.ylabel('Média das notas em Matemática')\n",
    "plt.title('Boxplot da Média das notas em Matemática por Dependência Administrativa')\n",
    "plt.show()\n"
   ]
  },
  {
   "attachments": {},
   "cell_type": "markdown",
   "metadata": {},
   "source": [
    "3) Localização da escola (feature qualitativa) X Média das notas em matemática (target quantitativa)"
   ]
  },
  {
   "cell_type": "code",
   "execution_count": 215,
   "metadata": {},
   "outputs": [
    {
     "data": {
      "image/png": "[encoded data removed]",
      "text/plain": [
       "<Figure size 720x432 with 1 Axes>"
      ]
     },
     "metadata": {
      "needs_background": "light"
     },
     "output_type": "display_data"
    }
   ],
   "source": [
    "# Boxplot da Média das notas em Matemática segmentadas por Localização da Escola\n",
    "plt.figure(figsize=(10, 6))\n",
    "sns.boxplot(x='TP_LOCALIZACAO_ESCOLA', y='NU_MEDIA_MT', data=dados_limpando)\n",
    "plt.xlabel('Localização da Escola')\n",
    "plt.ylabel('Média das notas em Matemática')\n",
    "plt.title('Boxplot da Média das notas em Matemática por Localização da Escola')\n",
    "plt.show()"
   ]
  },
  {
   "attachments": {},
   "cell_type": "markdown",
   "metadata": {},
   "source": [
    "4) Taxa de abandono (feature qualitativa) X Média das notas em matemática (target quantitativa)"
   ]
  },
  {
   "cell_type": "code",
   "execution_count": 216,
   "metadata": {},
   "outputs": [
    {
     "data": {
      "image/png": "[encoded data removed]",
      "text/plain": [
       "<Figure size 720x432 with 1 Axes>"
      ]
     },
     "metadata": {
      "needs_background": "light"
     },
     "output_type": "display_data"
    }
   ],
   "source": [
    "# Gráfico de Dispersão: Taxa de Abandono vs. Média das notas em Matemática\n",
    "plt.figure(figsize=(10, 6))\n",
    "plt.scatter(dados_limpando['NU_MEDIA_MT'], dados_limpando['NU_TAXA_ABANDONO'])\n",
    "plt.xlabel('Taxa de Abandono')\n",
    "plt.ylabel('Média das notas em Matemática')\n",
    "plt.title('Taxa de Abandono vs. Média das notas em Matemática')\n",
    "plt.show()"
   ]
  },
  {
   "attachments": {},
   "cell_type": "markdown",
   "metadata": {},
   "source": [
    "5) Porte da escola (feature qualitativa) X Média das notas em matemática (target quantitativa)"
   ]
  },
  {
   "cell_type": "code",
   "execution_count": 217,
   "metadata": {},
   "outputs": [
    {
     "data": {
      "image/png": "[encoded data removed]",
      "text/plain": [
       "<Figure size 720x432 with 1 Axes>"
      ]
     },
     "metadata": {
      "needs_background": "light"
     },
     "output_type": "display_data"
    }
   ],
   "source": [
    "# Boxplot da Média das notas em Matemática segmentando por Porte da Escola\n",
    "plt.figure(figsize=(10, 6))\n",
    "sns.boxplot(x='PORTE_ESCOLA', y='NU_MEDIA_MT', data=dados_limpando)\n",
    "plt.xlabel('Porte da Escola')\n",
    "plt.ylabel('Média das notas em Matemática')\n",
    "plt.title('Boxplot da Média das notas em Matemática por Porte da Escola')\n",
    "plt.show()"
   ]
  },
  {
   "attachments": {},
   "cell_type": "markdown",
   "metadata": {},
   "source": [
    "6) INSE (feature qualitativa) X Média das notas em matemática (target quantitativa)"
   ]
  },
  {
   "cell_type": "code",
   "execution_count": 218,
   "metadata": {},
   "outputs": [
    {
     "data": {
      "image/png": "[encoded data removed]",
      "text/plain": [
       "<Figure size 720x432 with 1 Axes>"
      ]
     },
     "metadata": {
      "needs_background": "light"
     },
     "output_type": "display_data"
    }
   ],
   "source": [
    "# Boxplot do INSE em relação à Média das notas em Matemática\n",
    "plt.figure(figsize=(10, 6))\n",
    "sns.boxplot(x='INSE', y='NU_MEDIA_MT', data=dados_limpando)\n",
    "plt.xlabel('Média das notas em Matemática')\n",
    "plt.ylabel('INSE')\n",
    "plt.title('Boxplot do INSE em relação à Média das notas em Matemática')\n",
    "plt.show()"
   ]
  },
  {
   "attachments": {},
   "cell_type": "markdown",
   "metadata": {},
   "source": [
    "7) Aplicação da função \"associations\" da biblioteca Dython"
   ]
  },
  {
   "attachments": {},
   "cell_type": "markdown",
   "metadata": {},
   "source": [
    "A importância dessa ferramenta está relacionada à compreensão das relações entre variáveis categóricas em um conjunto de dados. O teste do qui-quadrado é uma técnica estatística que permite determinar se existe uma associação significativa entre duas variáveis categóricas, indicando se essas variáveis são dependentes ou independentes uma da outra. A partir do gráfico de calor, é possível identificar padrões de associação entre variáveis, o que pode fornecer insights valiosos para a compreensão do comportamento dos dados relacionados às médias de matemática por escolas e auxiliar na tomada de decisões informadas."
   ]
  },
  {
   "cell_type": "code",
   "execution_count": 219,
   "metadata": {},
   "outputs": [
    {
     "data": {
      "image/png": "[encoded data removed]",
      "text/plain": [
       "<Figure size 1008x864 with 2 Axes>"
      ]
     },
     "metadata": {
      "needs_background": "light"
     },
     "output_type": "display_data"
    },
    {
     "data": {
      "text/plain": [
       "{'corr':                            TP_DEPENDENCIA_ADM_ESCOLA  TP_LOCALIZACAO_ESCOLA  \\\n",
       " TP_DEPENDENCIA_ADM_ESCOLA                   1.000000              -0.133953   \n",
       " TP_LOCALIZACAO_ESCOLA                      -0.133953               1.000000   \n",
       " NU_TAXA_ABANDONO                           -0.491872               0.030753   \n",
       " PORTE_ESCOLA                                0.485912               0.086309   \n",
       " NU_MEDIA_MT                                 0.604000              -0.112197   \n",
       " INSE                                        0.652178               0.178834   \n",
       " \n",
       "                            NU_TAXA_ABANDONO  PORTE_ESCOLA  NU_MEDIA_MT  \\\n",
       " TP_DEPENDENCIA_ADM_ESCOLA         -0.491872      0.485912     0.604000   \n",
       " TP_LOCALIZACAO_ESCOLA              0.030753      0.086309    -0.112197   \n",
       " NU_TAXA_ABANDONO                   1.000000      0.277055    -0.452961   \n",
       " PORTE_ESCOLA                       0.277055      1.000000     0.201365   \n",
       " NU_MEDIA_MT                       -0.452961      0.201365     1.000000   \n",
       " INSE                               0.466771      0.167509     0.779058   \n",
       " \n",
       "                                INSE  \n",
       " TP_DEPENDENCIA_ADM_ESCOLA  0.652178  \n",
       " TP_LOCALIZACAO_ESCOLA      0.178834  \n",
       " NU_TAXA_ABANDONO           0.466771  \n",
       " PORTE_ESCOLA               0.167509  \n",
       " NU_MEDIA_MT                0.779058  \n",
       " INSE                       1.000000  ,\n",
       " 'ax': <Axes: title={'center': 'Chi2'}>}"
      ]
     },
     "execution_count": 219,
     "metadata": {},
     "output_type": "execute_result"
    }
   ],
   "source": [
    "from dython.nominal import associations\n",
    "associations(dados_limpando, figsize=(14,12), title='Chi2')"
   ]
  },
  {
   "cell_type": "markdown",
   "metadata": {},
   "source": [
    "## Modelos de predição\n"
   ]
  },
  {
   "cell_type": "code",
   "execution_count": 225,
   "metadata": {},
   "outputs": [
    {
     "data": {
      "text/html": [
       "<div>\n",
       "<style scoped>\n",
       "    .dataframe tbody tr th:only-of-type {\n",
       "        vertical-align: middle;\n",
       "    }\n",
       "\n",
       "    .dataframe tbody tr th {\n",
       "        vertical-align: top;\n",
       "    }\n",
       "\n",
       "    .dataframe thead th {\n",
       "        text-align: right;\n",
       "    }\n",
       "</style>\n",
       "<table border=\"1\" class=\"dataframe\">\n",
       "  <thead>\n",
       "    <tr style=\"text-align: right;\">\n",
       "      <th></th>\n",
       "      <th>TP_DEPENDENCIA_ADM_ESCOLA</th>\n",
       "      <th>TP_LOCALIZACAO_ESCOLA</th>\n",
       "      <th>NU_TAXA_ABANDONO</th>\n",
       "      <th>PORTE_ESCOLA</th>\n",
       "      <th>NU_MEDIA_MT</th>\n",
       "      <th>INSE</th>\n",
       "    </tr>\n",
       "  </thead>\n",
       "  <tbody>\n",
       "    <tr>\n",
       "      <th>67619</th>\n",
       "      <td>4</td>\n",
       "      <td>1</td>\n",
       "      <td>0.0</td>\n",
       "      <td>4</td>\n",
       "      <td>627.66</td>\n",
       "      <td>6.0</td>\n",
       "    </tr>\n",
       "    <tr>\n",
       "      <th>67628</th>\n",
       "      <td>4</td>\n",
       "      <td>1</td>\n",
       "      <td>0.0</td>\n",
       "      <td>1</td>\n",
       "      <td>459.72</td>\n",
       "      <td>4.0</td>\n",
       "    </tr>\n",
       "    <tr>\n",
       "      <th>67640</th>\n",
       "      <td>4</td>\n",
       "      <td>1</td>\n",
       "      <td>0.0</td>\n",
       "      <td>2</td>\n",
       "      <td>507.22</td>\n",
       "      <td>5.0</td>\n",
       "    </tr>\n",
       "    <tr>\n",
       "      <th>67642</th>\n",
       "      <td>4</td>\n",
       "      <td>1</td>\n",
       "      <td>0.8</td>\n",
       "      <td>2</td>\n",
       "      <td>529.87</td>\n",
       "      <td>5.0</td>\n",
       "    </tr>\n",
       "    <tr>\n",
       "      <th>67648</th>\n",
       "      <td>4</td>\n",
       "      <td>1</td>\n",
       "      <td>2.4</td>\n",
       "      <td>1</td>\n",
       "      <td>528.93</td>\n",
       "      <td>5.0</td>\n",
       "    </tr>\n",
       "    <tr>\n",
       "      <th>...</th>\n",
       "      <td>...</td>\n",
       "      <td>...</td>\n",
       "      <td>...</td>\n",
       "      <td>...</td>\n",
       "      <td>...</td>\n",
       "      <td>...</td>\n",
       "    </tr>\n",
       "    <tr>\n",
       "      <th>172288</th>\n",
       "      <td>4</td>\n",
       "      <td>1</td>\n",
       "      <td>0.0</td>\n",
       "      <td>3</td>\n",
       "      <td>786.28</td>\n",
       "      <td>6.0</td>\n",
       "    </tr>\n",
       "    <tr>\n",
       "      <th>172292</th>\n",
       "      <td>2</td>\n",
       "      <td>1</td>\n",
       "      <td>0.0</td>\n",
       "      <td>3</td>\n",
       "      <td>452.82</td>\n",
       "      <td>3.0</td>\n",
       "    </tr>\n",
       "    <tr>\n",
       "      <th>172296</th>\n",
       "      <td>2</td>\n",
       "      <td>1</td>\n",
       "      <td>12.0</td>\n",
       "      <td>4</td>\n",
       "      <td>456.23</td>\n",
       "      <td>3.0</td>\n",
       "    </tr>\n",
       "    <tr>\n",
       "      <th>172302</th>\n",
       "      <td>2</td>\n",
       "      <td>1</td>\n",
       "      <td>11.0</td>\n",
       "      <td>4</td>\n",
       "      <td>428.90</td>\n",
       "      <td>3.0</td>\n",
       "    </tr>\n",
       "    <tr>\n",
       "      <th>172304</th>\n",
       "      <td>4</td>\n",
       "      <td>1</td>\n",
       "      <td>0.0</td>\n",
       "      <td>1</td>\n",
       "      <td>464.84</td>\n",
       "      <td>5.0</td>\n",
       "    </tr>\n",
       "  </tbody>\n",
       "</table>\n",
       "<p>15598 rows × 6 columns</p>\n",
       "</div>"
      ],
      "text/plain": [
       "        TP_DEPENDENCIA_ADM_ESCOLA  TP_LOCALIZACAO_ESCOLA  NU_TAXA_ABANDONO  \\\n",
       "67619                           4                      1               0.0   \n",
       "67628                           4                      1               0.0   \n",
       "67640                           4                      1               0.0   \n",
       "67642                           4                      1               0.8   \n",
       "67648                           4                      1               2.4   \n",
       "...                           ...                    ...               ...   \n",
       "172288                          4                      1               0.0   \n",
       "172292                          2                      1               0.0   \n",
       "172296                          2                      1              12.0   \n",
       "172302                          2                      1              11.0   \n",
       "172304                          4                      1               0.0   \n",
       "\n",
       "        PORTE_ESCOLA  NU_MEDIA_MT  INSE  \n",
       "67619              4       627.66   6.0  \n",
       "67628              1       459.72   4.0  \n",
       "67640              2       507.22   5.0  \n",
       "67642              2       529.87   5.0  \n",
       "67648              1       528.93   5.0  \n",
       "...              ...          ...   ...  \n",
       "172288             3       786.28   6.0  \n",
       "172292             3       452.82   3.0  \n",
       "172296             4       456.23   3.0  \n",
       "172302             4       428.90   3.0  \n",
       "172304             1       464.84   5.0  \n",
       "\n",
       "[15598 rows x 6 columns]"
      ]
     },
     "execution_count": 225,
     "metadata": {},
     "output_type": "execute_result"
    }
   ],
   "source": [
    "#De início, vamos alterar a base dados\n",
    "dados_manipulados = dados_limpando\n",
    "# Transformar a coluna \"PORTE_ESCOLA\"\n",
    "dados_manipulados['PORTE_ESCOLA'] = dados_manipulados['PORTE_ESCOLA'].replace({\n",
    "    'De 1 a 30 alunos': 1,\n",
    "    'De 31 a 60 alunos': 2,\n",
    "    'De 61 a 90 alunos': 3,\n",
    "    'Maior que 90 alunos': 4\n",
    "})\n",
    "\n",
    "# Transformar a coluna \"INSE\"\n",
    "dados_manipulados['INSE'] = dados_manipulados['INSE'].replace({\n",
    "    'Grupo 1': 1,\n",
    "    'Grupo 2': 2,\n",
    "    'Grupo 3': 3,\n",
    "    'Grupo 4': 4,\n",
    "    'Grupo 5': 5,\n",
    "    'Grupo 6': 6\n",
    "})\n",
    "\n",
    "dados_manipulados"
   ]
  },
  {
   "cell_type": "code",
   "execution_count": 226,
   "metadata": {},
   "outputs": [
    {
     "data": {
      "text/plain": [
       "DecisionTreeRegressor()"
      ]
     },
     "execution_count": 226,
     "metadata": {},
     "output_type": "execute_result"
    }
   ],
   "source": [
    "import pandas as pd\n",
    "from sklearn.model_selection import train_test_split\n",
    "from sklearn.linear_model import LinearRegression\n",
    "from sklearn.tree import DecisionTreeRegressor\n",
    "from sklearn.metrics import mean_squared_error, r2_score\n",
    "\n",
    "# Preencher valores ausentes com a média\n",
    "dados_manipulados.fillna(dados_manipulados.mean(), inplace=True)\n",
    "\n",
    "# Selecionar as features e target\n",
    "features = dados_manipulados[['TP_DEPENDENCIA_ADM_ESCOLA', 'TP_LOCALIZACAO_ESCOLA', 'NU_TAXA_ABANDONO', 'PORTE_ESCOLA', 'INSE']]\n",
    "target = dados_manipulados['NU_MEDIA_MT']\n",
    "\n",
    "# Dividindo os dados em conjuntos de treinamento e teste\n",
    "X_train, X_test, y_train, y_test = train_test_split(features, target, test_size=0.2, random_state=42)\n",
    "\n",
    "# Criar o modelo de regressão linear\n",
    "linear_model = LinearRegression()\n",
    "linear_model.fit(X_train, y_train)\n",
    "\n",
    "# Fazer previsões usando o modelo de regressão linear\n",
    "predicao_linear = linear_model.predict(X_test)\n",
    "\n",
    "# Criar o modelo de árvore de decisão\n",
    "tree_model = DecisionTreeRegressor()\n",
    "tree_model.fit(X_train, y_train)\n"
   ]
  },
  {
   "cell_type": "code",
   "execution_count": 222,
   "metadata": {},
   "outputs": [
    {
     "name": "stdout",
     "output_type": "stream",
     "text": [
      "Previsão usando Regressão Linear: 373.71603319136506\n",
      "Previsão usando Árvore de Decisão: 477.41\n"
     ]
    }
   ],
   "source": [
    "def fazer_previsao():\n",
    "    # Obtendo as características da escola a partir de input\n",
    "    dependencia = int(input(\"Informe o tipo de dependência administrativa da escola: \"))\n",
    "    localizacao = int(input(\"Informe o tipo de localização da escola: \"))\n",
    "    taxa_abandono = float(input(\"Informe a taxa de abandono da escola: \"))\n",
    "    porte = int(input(\"Informe o porte da escola: \"))\n",
    "    inse = int(input(\"Informe o grupo INSE da escola: \"))\n",
    "    \n",
    "    # Criando um DataFrame com as características fornecidas\n",
    "    features = pd.DataFrame([[dependencia, localizacao, taxa_abandono, porte, inse]],\n",
    "                            columns=['TP_DEPENDENCIA_ADM_ESCOLA', 'TP_LOCALIZACAO_ESCOLA', 'NU_TAXA_ABANDONO', 'PORTE_ESCOLA', 'INSE'])\n",
    "    \n",
    "    # Fazendo a previsão usando os modelos treinados\n",
    "    linear_prediction = linear_model.predict(features)\n",
    "    tree_prediction = tree_model.predict(features)\n",
    "    \n",
    "    # Retornandp as previsões\n",
    "    return linear_prediction[0], tree_prediction[0]\n",
    "\n",
    "# Utilizando a função para fazer previsões\n",
    "linear_model = LinearRegression()\n",
    "tree_model = DecisionTreeRegressor()\n",
    "\n",
    "linear_model.fit(X_train, y_train)\n",
    "tree_model.fit(X_train, y_train)\n",
    "\n",
    "linear_pred, tree_pred = fazer_previsao()\n",
    "\n",
    "print('Previsão usando Regressão Linear:', linear_pred)\n",
    "print('Previsão usando Árvore de Decisão:', tree_pred)\n"
   ]
  },
  {
   "cell_type": "code",
   "execution_count": 223,
   "metadata": {},
   "outputs": [
    {
     "data": {
      "text/html": [
       "<div>\n",
       "<style scoped>\n",
       "    .dataframe tbody tr th:only-of-type {\n",
       "        vertical-align: middle;\n",
       "    }\n",
       "\n",
       "    .dataframe tbody tr th {\n",
       "        vertical-align: top;\n",
       "    }\n",
       "\n",
       "    .dataframe thead th {\n",
       "        text-align: right;\n",
       "    }\n",
       "</style>\n",
       "<table border=\"1\" class=\"dataframe\">\n",
       "  <thead>\n",
       "    <tr style=\"text-align: right;\">\n",
       "      <th></th>\n",
       "      <th>TP_DEPENDENCIA_ADM_ESCOLA</th>\n",
       "      <th>TP_LOCALIZACAO_ESCOLA</th>\n",
       "      <th>NU_TAXA_ABANDONO</th>\n",
       "      <th>PORTE_ESCOLA</th>\n",
       "      <th>INSE</th>\n",
       "    </tr>\n",
       "  </thead>\n",
       "  <tbody>\n",
       "    <tr>\n",
       "      <th>67619</th>\n",
       "      <td>4</td>\n",
       "      <td>1</td>\n",
       "      <td>0.0</td>\n",
       "      <td>4</td>\n",
       "      <td>6.0</td>\n",
       "    </tr>\n",
       "    <tr>\n",
       "      <th>67628</th>\n",
       "      <td>4</td>\n",
       "      <td>1</td>\n",
       "      <td>0.0</td>\n",
       "      <td>1</td>\n",
       "      <td>4.0</td>\n",
       "    </tr>\n",
       "    <tr>\n",
       "      <th>67640</th>\n",
       "      <td>4</td>\n",
       "      <td>1</td>\n",
       "      <td>0.0</td>\n",
       "      <td>2</td>\n",
       "      <td>5.0</td>\n",
       "    </tr>\n",
       "    <tr>\n",
       "      <th>67642</th>\n",
       "      <td>4</td>\n",
       "      <td>1</td>\n",
       "      <td>0.8</td>\n",
       "      <td>2</td>\n",
       "      <td>5.0</td>\n",
       "    </tr>\n",
       "    <tr>\n",
       "      <th>67648</th>\n",
       "      <td>4</td>\n",
       "      <td>1</td>\n",
       "      <td>2.4</td>\n",
       "      <td>1</td>\n",
       "      <td>5.0</td>\n",
       "    </tr>\n",
       "    <tr>\n",
       "      <th>...</th>\n",
       "      <td>...</td>\n",
       "      <td>...</td>\n",
       "      <td>...</td>\n",
       "      <td>...</td>\n",
       "      <td>...</td>\n",
       "    </tr>\n",
       "    <tr>\n",
       "      <th>172288</th>\n",
       "      <td>4</td>\n",
       "      <td>1</td>\n",
       "      <td>0.0</td>\n",
       "      <td>3</td>\n",
       "      <td>6.0</td>\n",
       "    </tr>\n",
       "    <tr>\n",
       "      <th>172292</th>\n",
       "      <td>2</td>\n",
       "      <td>1</td>\n",
       "      <td>0.0</td>\n",
       "      <td>3</td>\n",
       "      <td>3.0</td>\n",
       "    </tr>\n",
       "    <tr>\n",
       "      <th>172296</th>\n",
       "      <td>2</td>\n",
       "      <td>1</td>\n",
       "      <td>12.0</td>\n",
       "      <td>4</td>\n",
       "      <td>3.0</td>\n",
       "    </tr>\n",
       "    <tr>\n",
       "      <th>172302</th>\n",
       "      <td>2</td>\n",
       "      <td>1</td>\n",
       "      <td>11.0</td>\n",
       "      <td>4</td>\n",
       "      <td>3.0</td>\n",
       "    </tr>\n",
       "    <tr>\n",
       "      <th>172304</th>\n",
       "      <td>4</td>\n",
       "      <td>1</td>\n",
       "      <td>0.0</td>\n",
       "      <td>1</td>\n",
       "      <td>5.0</td>\n",
       "    </tr>\n",
       "  </tbody>\n",
       "</table>\n",
       "<p>15598 rows × 5 columns</p>\n",
       "</div>"
      ],
      "text/plain": [
       "        TP_DEPENDENCIA_ADM_ESCOLA  TP_LOCALIZACAO_ESCOLA  NU_TAXA_ABANDONO  \\\n",
       "67619                           4                      1               0.0   \n",
       "67628                           4                      1               0.0   \n",
       "67640                           4                      1               0.0   \n",
       "67642                           4                      1               0.8   \n",
       "67648                           4                      1               2.4   \n",
       "...                           ...                    ...               ...   \n",
       "172288                          4                      1               0.0   \n",
       "172292                          2                      1               0.0   \n",
       "172296                          2                      1              12.0   \n",
       "172302                          2                      1              11.0   \n",
       "172304                          4                      1               0.0   \n",
       "\n",
       "        PORTE_ESCOLA  INSE  \n",
       "67619              4   6.0  \n",
       "67628              1   4.0  \n",
       "67640              2   5.0  \n",
       "67642              2   5.0  \n",
       "67648              1   5.0  \n",
       "...              ...   ...  \n",
       "172288             3   6.0  \n",
       "172292             3   3.0  \n",
       "172296             4   3.0  \n",
       "172302             4   3.0  \n",
       "172304             1   5.0  \n",
       "\n",
       "[15598 rows x 5 columns]"
      ]
     },
     "execution_count": 223,
     "metadata": {},
     "output_type": "execute_result"
    }
   ],
   "source": [
    "features "
   ]
  },
  {
   "attachments": {},
   "cell_type": "markdown",
   "metadata": {},
   "source": [
    "## Avaliando a perfomance da predição\n"
   ]
  },
  {
   "cell_type": "code",
   "execution_count": 224,
   "metadata": {},
   "outputs": [
    {
     "name": "stdout",
     "output_type": "stream",
     "text": [
      "Regressão Linear:\n",
      "RMSE: 44.44624207673372\n",
      "R2 Score: 0.574515432009657\n",
      "\n",
      "Árvore de Decisão:\n",
      "RMSE: 34.994249373490476\n",
      "R2 Score: 0.7447911971895227\n"
     ]
    }
   ],
   "source": [
    "# Fazer previsões usando o modelo de regressão linear\n",
    "linear_predictions = linear_model.predict(X_train)\n",
    "\n",
    "# Fazer previsões usando o modelo de árvore de decisão em relação à base treinamentos\n",
    "tree_predictions = tree_model.predict(X_train)\n",
    "\n",
    "# Avaliar o desempenho do modelo de regressão linear\n",
    "linear_rmse = mean_squared_error(y_test, predicao_linear, squared=False)\n",
    "linear_r2 = r2_score(y_test, predicao_linear)\n",
    "\n",
    "# Avaliar o desempenho do modelo de árvore de decisão\n",
    "tree_rmse = mean_squared_error(y_train, tree_predictions, squared=False)\n",
    "tree_r2 = r2_score(y_train, tree_predictions)\n",
    "\n",
    "print(\"Regressão Linear:\")\n",
    "print(\"RMSE:\", linear_rmse)\n",
    "print(\"R2 Score:\", linear_r2)\n",
    "print()\n",
    "print(\"Árvore de Decisão:\")\n",
    "print(\"RMSE:\", tree_rmse)\n",
    "print(\"R2 Score:\", tree_r2)\n"
   ]
  }
 ],
 "metadata": {
  "kernelspec": {
   "display_name": "Python 3",
   "language": "python",
   "name": "python3"
  },
  "language_info": {
   "codemirror_mode": {
    "name": "ipython",
    "version": 3
   },
   "file_extension": ".py",
   "mimetype": "text/x-python",
   "name": "python",
   "nbconvert_exporter": "python",
   "pygments_lexer": "ipython3",
   "version": "3.9.12"
  },
  "orig_nbformat": 4
 },
 "nbformat": 4,
 "nbformat_minor": 2
}
